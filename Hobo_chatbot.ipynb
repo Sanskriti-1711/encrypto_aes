{
  "nbformat": 4,
  "nbformat_minor": 0,
  "metadata": {
    "colab": {
      "name": "ChatBot01.ipynb",
      "provenance": [],
      "collapsed_sections": []
    },
    "kernelspec": {
      "name": "python3",
      "display_name": "Python 3"
    }
  },
  "cells": [
    {
      "cell_type": "markdown",
      "metadata": {
        "id": "OdkeN5mTmOvA",
        "colab_type": "text"
      },
      "source": [
        "# Hobo loading... "
      ]
    },
    {
      "cell_type": "code",
      "metadata": {
        "id": "SlypmP1zoyNN",
        "colab_type": "code",
        "colab": {}
      },
      "source": [
        "#pip install --user -U nltk"
      ],
      "execution_count": 0,
      "outputs": []
    },
    {
      "cell_type": "code",
      "metadata": {
        "id": "bCJiEYrtpbft",
        "colab_type": "code",
        "colab": {}
      },
      "source": [
        "import io\n",
        "import random\n",
        "import string # to process standard python strings\n",
        "import warnings\n",
        "import numpy as np\n",
        "from nltk.chat.util import Chat, reflections\n",
        "from sklearn.feature_extraction.text import TfidfVectorizer\n",
        "from sklearn.metrics.pairwise import cosine_similarity\n",
        "import warnings\n",
        "warnings.filterwarnings('ignore')"
      ],
      "execution_count": 0,
      "outputs": []
    },
    {
      "cell_type": "code",
      "metadata": {
        "id": "L_PgGOmUpkfy",
        "colab_type": "code",
        "outputId": "1af56016-20bb-4d9f-ea3e-37cb785f1b3a",
        "colab": {
          "base_uri": "https://localhost:8080/",
          "height": 34
        }
      },
      "source": [
        "import nltk\n",
        "from nltk.stem import WordNetLemmatizer\n",
        "nltk.download('popular', quiet=True) # for downloading packages"
      ],
      "execution_count": 6,
      "outputs": [
        {
          "output_type": "execute_result",
          "data": {
            "text/plain": [
              "True"
            ]
          },
          "metadata": {
            "tags": []
          },
          "execution_count": 6
        }
      ]
    },
    {
      "cell_type": "code",
      "metadata": {
        "id": "ML6jp1JnpzXy",
        "colab_type": "code",
        "colab": {}
      },
      "source": [
        "#reading file\n",
        "f = open('/content/faq.txt', errors = \"ignore\")\n",
        "raw = f.read()\n",
        "raw = raw.lower() #converts text into lowercase\n"
      ],
      "execution_count": 0,
      "outputs": []
    },
    {
      "cell_type": "code",
      "metadata": {
        "id": "XMJTOaI0LPZ-",
        "colab_type": "code",
        "colab": {}
      },
      "source": [
        "#nltk.download('punkt') # first-time use only\n",
        "#nltk.download('wordnet') # first-time use only"
      ],
      "execution_count": 0,
      "outputs": []
    },
    {
      "cell_type": "code",
      "metadata": {
        "id": "KzhxSkuXLEFu",
        "colab_type": "code",
        "colab": {}
      },
      "source": [
        "#Tokenisation\n",
        "sent_tokens = nltk.sent_tokenize(raw)# converts to list of sentences \n",
        "word_tokens = nltk.word_tokenize(raw)# converts to list of words\n"
      ],
      "execution_count": 0,
      "outputs": []
    },
    {
      "cell_type": "code",
      "metadata": {
        "id": "oUFqc3ovR6Xl",
        "colab_type": "code",
        "outputId": "f0e1c7b4-5278-4e24-8d8d-242db7ce4729",
        "colab": {
          "base_uri": "https://localhost:8080/",
          "height": 51
        }
      },
      "source": [
        "sent_tokens[:2]"
      ],
      "execution_count": 10,
      "outputs": [
        {
          "output_type": "execute_result",
          "data": {
            "text/plain": [
              "['using the faq page.',\n",
              " 'these faqs are periodically updated, ensure to revisit this page in case there is a recurring issue for updated resolution/ workarounds.']"
            ]
          },
          "metadata": {
            "tags": []
          },
          "execution_count": 10
        }
      ]
    },
    {
      "cell_type": "code",
      "metadata": {
        "id": "V9fjDOHmSYcI",
        "colab_type": "code",
        "outputId": "75b2142d-c5d8-4c29-8e27-270aea9cf8ba",
        "colab": {
          "base_uri": "https://localhost:8080/",
          "height": 34
        }
      },
      "source": [
        "word_tokens[:2]"
      ],
      "execution_count": 11,
      "outputs": [
        {
          "output_type": "execute_result",
          "data": {
            "text/plain": [
              "['using', 'the']"
            ]
          },
          "metadata": {
            "tags": []
          },
          "execution_count": 11
        }
      ]
    },
    {
      "cell_type": "code",
      "metadata": {
        "id": "RDukc_VpLsGl",
        "colab_type": "code",
        "colab": {}
      },
      "source": [
        "# lemmerising\n",
        "lemmer = WordNetLemmatizer()\n",
        "def LemTokens(tokens):\n",
        "    return [lemmer.lemmatize(token) for token in tokens]\n",
        "remove_punct_dict = dict((ord(punct), None) for punct in string.punctuation)\n",
        "def LemNormalize(text):\n",
        "    return LemTokens(nltk.word_tokenize(text.lower().translate(remove_punct_dict)))\n"
      ],
      "execution_count": 0,
      "outputs": []
    },
    {
      "cell_type": "code",
      "metadata": {
        "id": "dztoBOg8MQ4u",
        "colab_type": "code",
        "colab": {}
      },
      "source": [
        "# Keyword Matching\n",
        "GREETING_INPUTS = (\"hello\", \"hi\", \"greetings\", \"sup\", \"what's up\",\"hey\",)\n",
        "GREETING_RESPONSES = [\"hi\", \"hey\", \"*nods*\", \"hi there\", \"hello\", \"heya\", \"I am glad! You are talking to me\"]\n"
      ],
      "execution_count": 0,
      "outputs": []
    },
    {
      "cell_type": "code",
      "metadata": {
        "id": "ewoHb9TCMapK",
        "colab_type": "code",
        "colab": {}
      },
      "source": [
        "def greeting(sentence):\n",
        "    \"\"\"If user's input is a greeting, return a greeting response\"\"\"\n",
        "    for word in sentence.split():\n",
        "        if word.lower() in GREETING_INPUTS:\n",
        "            return random.choice(GREETING_RESPONSES)\n"
      ],
      "execution_count": 0,
      "outputs": []
    },
    {
      "cell_type": "code",
      "metadata": {
        "id": "-O-GNxdOMg07",
        "colab_type": "code",
        "colab": {}
      },
      "source": [
        "# Generating response\n",
        "def response(user_response):\n",
        "    Hobo_response=''\n",
        "    sent_tokens.append(user_response)\n",
        "    TfidfVec = TfidfVectorizer(tokenizer=LemNormalize, stop_words='english')\n",
        "    tfidf = TfidfVec.fit_transform(sent_tokens)\n",
        "    vals = cosine_similarity(tfidf[-1], tfidf)\n",
        "    idx=vals.argsort()[0][-2]\n",
        "    flat = vals.flatten()\n",
        "    flat.sort()\n",
        "    req_tfidf = flat[-2]\n",
        "    if(req_tfidf==0):\n",
        "        Hobo_response=Hobo_response+\"I am sorry! I don't understand you\"\n",
        "        return Hobo_response\n",
        "    else:\n",
        "        Hobo_response = Hobo_response+sent_tokens[idx]\n",
        "        return Hobo_response\n"
      ],
      "execution_count": 0,
      "outputs": []
    },
    {
      "cell_type": "code",
      "metadata": {
        "id": "mJybV-5xMozC",
        "colab_type": "code",
        "colab": {}
      },
      "source": [
        "flag=True\n",
        "print(\"HOBO: My name is Hobo. I am here to guide you about Cloud Councelage IP. Please clear your doubts. If you want to exit, type Bye!\")\n",
        "while(flag==True):\n",
        "    user_response = input()\n",
        "    user_response=user_response.lower()\n",
        "    if(user_response!='bye'):\n",
        "        if(user_response=='thanks' or user_response=='thank you' ):\n",
        "            flag=False\n",
        "            print(\"HOBO: You are welcome..\")\n",
        "        else:\n",
        "            if(greeting(user_response)!=None):\n",
        "                print(\"HOBO: \"+greeting(user_response))\n",
        "            else:\n",
        "                print(\"HOBO: \",end=\"\")\n",
        "                print(response(user_response))\n",
        "                sent_tokens.remove(user_response)\n",
        "    else:\n",
        "        flag=False\n",
        "        print(\"HOBO: Bye! take care..\")\n",
        "        chat = Chat(reflections)\n",
        "        chat.converse()\n"
      ],
      "execution_count": 0,
      "outputs": []
    }
  ]
}